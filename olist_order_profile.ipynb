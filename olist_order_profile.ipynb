{
 "metadata": {
  "language_info": {
   "codemirror_mode": {
    "name": "ipython",
    "version": 3
   },
   "file_extension": ".py",
   "mimetype": "text/x-python",
   "name": "python",
   "nbconvert_exporter": "python",
   "pygments_lexer": "ipython3",
   "version": "3.8.3-final"
  },
  "orig_nbformat": 2,
  "kernelspec": {
   "name": "python3",
   "display_name": "Python 3"
  }
 },
 "nbformat": 4,
 "nbformat_minor": 2,
 "cells": [
  {
   "source": [
    "# Data Analysis for project Olist\n",
    "GitHub location: https://github.com/LarsTinnefeld/Olist-order-profile-analysis\n",
    "\n",
    "Tasks:\n",
    "\n",
    "1) EDA\n",
    "- Correlations and pattersn in connection with order size and order profile\n",
    "\n",
    "2) Order profile analysis\n",
    "- Units per order\n",
    "- Lines per order\n",
    "- Units per order line\n",
    "- Pareto curve units\n",
    "- Pareto curve order lines\n",
    "- XYZ profile\n",
    "\n",
    "3) \n",
    "\n",
    "\n",
    "Structure of this notebook:\n",
    "\n",
    "- Data import and preparation\n",
    "- Exploratory data analysis"
   ],
   "cell_type": "markdown",
   "metadata": {}
  },
  {
   "source": [
    "---\n",
    "## Data Preparation\n",
    "### Importing libraries"
   ],
   "cell_type": "markdown",
   "metadata": {}
  },
  {
   "cell_type": "code",
   "execution_count": 2,
   "metadata": {},
   "outputs": [],
   "source": [
    "import pandas as pd\n",
    "import numpy as np\n",
    "import matplotlib.pyplot as plt\n",
    "import seaborn as sns\n",
    "%matplotlib inline\n",
    "sns.set_style(\"whitegrid\")"
   ]
  },
  {
   "source": [
    "### Importing datasets"
   ],
   "cell_type": "markdown",
   "metadata": {}
  },
  {
   "cell_type": "code",
   "execution_count": 5,
   "metadata": {},
   "outputs": [],
   "source": [
    "df_orders_consolidated = pd.read_csv('df_orders_consolidated.csv')"
   ]
  },
  {
   "cell_type": "code",
   "execution_count": 4,
   "metadata": {},
   "outputs": [
    {
     "output_type": "stream",
     "name": "stdout",
     "text": [
      "<class 'pandas.core.frame.DataFrame'>\nRangeIndex: 102422 entries, 0 to 102421\nData columns (total 29 columns):\n #   Column                         Non-Null Count   Dtype  \n---  ------                         --------------   -----  \n 0   Unnamed: 0                     102422 non-null  int64  \n 1   order_id                       102422 non-null  object \n 2   customer_id                    102422 non-null  object \n 3   order_status                   102422 non-null  object \n 4   order_purchase_timestamp       102422 non-null  object \n 5   order_approved_at              102408 non-null  object \n 6   order_delivered_carrier_date   101395 non-null  object \n 7   order_delivered_customer_date  102422 non-null  object \n 8   order_estimated_delivery_date  102422 non-null  object \n 9   date_ordinal                   102422 non-null  int64  \n 10  shipping_time_delta            102422 non-null  int64  \n 11  shipping_duration              102422 non-null  int64  \n 12  estimated_duration             102422 non-null  int64  \n 13  product_id                     102422 non-null  object \n 14  qty                            102422 non-null  int64  \n 15  seller_id                      102422 non-null  object \n 16  shipping_limit_date            102422 non-null  object \n 17  price                          102422 non-null  float64\n 18  freight_value                  102422 non-null  float64\n 19  product_category_name          100962 non-null  object \n 20  product_name_lenght            100962 non-null  float64\n 21  product_description_lenght     100962 non-null  float64\n 22  product_photos_qty             100962 non-null  float64\n 23  product_weight_g               102422 non-null  float64\n 24  product_length_cm              102422 non-null  float64\n 25  product_height_cm              102422 non-null  float64\n 26  product_width_cm               102422 non-null  float64\n 27  order_line_cube_in_ltr         102422 non-null  float64\n 28  price_round                    102422 non-null  float64\ndtypes: float64(11), int64(6), object(12)\nmemory usage: 22.7+ MB\n"
     ]
    }
   ],
   "source": [
    "df_orders_consolidated.info()"
   ]
  },
  {
   "cell_type": "code",
   "execution_count": null,
   "metadata": {},
   "outputs": [],
   "source": []
  }
 ]
}