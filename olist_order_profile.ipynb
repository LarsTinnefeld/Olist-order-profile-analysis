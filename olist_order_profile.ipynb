{
 "metadata": {
  "language_info": {
   "codemirror_mode": {
    "name": "ipython",
    "version": 3
   },
   "file_extension": ".py",
   "mimetype": "text/x-python",
   "name": "python",
   "nbconvert_exporter": "python",
   "pygments_lexer": "ipython3",
   "version": "3.8.3-final"
  },
  "orig_nbformat": 2,
  "kernelspec": {
   "name": "python3",
   "display_name": "Python 3"
  }
 },
 "nbformat": 4,
 "nbformat_minor": 2,
 "cells": [
  {
   "source": [
    "# Data Analysis for project Olist\n",
    "GitHub location: https://github.com/LarsTinnefeld/olist_ecom_analysis.git\n",
    "\n",
    "Questions to investigate:\n",
    "\n",
    "Are there correlations and patterns in the data which are important for the concept?\n",
    "What is the general business trend?\n",
    "How dynamic is the operation and are there extreme events which impact logistic process?\n",
    "What does the prediction say about the business in two years?\n",
    "Structure of this notebook:\n",
    "\n",
    "Data import and preparation\n",
    "Exploratory data analysis\n",
    "Extracting trends and predictions from the order data\n",
    "Linear regression"
   ],
   "cell_type": "markdown",
   "metadata": {}
  },
  {
   "source": [
    "---\n",
    "## Importing libraries"
   ],
   "cell_type": "markdown",
   "metadata": {}
  },
  {
   "cell_type": "code",
   "execution_count": 3,
   "metadata": {},
   "outputs": [],
   "source": [
    "import pandas as pd\n",
    "import numpy as np\n",
    "import matplotlib.pyplot as plt\n",
    "import seaborn as sns\n",
    "%matplotlib inline\n",
    "sns.set_style(\"whitegrid\")"
   ]
  },
  {
   "cell_type": "code",
   "execution_count": null,
   "metadata": {},
   "outputs": [],
   "source": []
  }
 ]
}